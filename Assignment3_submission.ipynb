{
  "nbformat": 4,
  "nbformat_minor": 0,
  "metadata": {
    "colab": {
      "name": "H_Assignment3_Giridhar_Haritha.ipynb",
      "provenance": [],
      "collapsed_sections": []
    },
    "kernelspec": {
      "name": "python3",
      "display_name": "Python 3"
    },
    "accelerator": "GPU"
  },
  "cells": [
    {
      "cell_type": "code",
      "metadata": {
        "id": "t36jXEIxcIcS",
        "colab_type": "code",
        "outputId": "1cabc339-ff85-4e26-a5f6-41281114ca50",
        "colab": {
          "base_uri": "https://localhost:8080/",
          "height": 121
        }
      },
      "source": [
        "from google.colab import drive\n",
        "drive.mount('/content/drive')\n"
      ],
      "execution_count": 1,
      "outputs": [
        {
          "output_type": "stream",
          "text": [
            "Go to this URL in a browser: https://accounts.google.com/o/oauth2/auth?client_id=947318989803-6bn6qk8qdgf4n4g3pfee6491hc0brc4i.apps.googleusercontent.com&redirect_uri=urn%3aietf%3awg%3aoauth%3a2.0%3aoob&response_type=code&scope=email%20https%3a%2f%2fwww.googleapis.com%2fauth%2fdocs.test%20https%3a%2f%2fwww.googleapis.com%2fauth%2fdrive%20https%3a%2f%2fwww.googleapis.com%2fauth%2fdrive.photos.readonly%20https%3a%2f%2fwww.googleapis.com%2fauth%2fpeopleapi.readonly\n",
            "\n",
            "Enter your authorization code:\n",
            "··········\n",
            "Mounted at /content/drive\n"
          ],
          "name": "stdout"
        }
      ]
    },
    {
      "cell_type": "code",
      "metadata": {
        "id": "LgmWWYte-AYA",
        "colab_type": "code",
        "outputId": "a0707cb8-9517-4683-e4cc-6c87a6577c31",
        "colab": {
          "base_uri": "https://localhost:8080/",
          "height": 34
        }
      },
      "source": [
        "from google.colab import drive\n",
        "drive.mount('/content/drive')"
      ],
      "execution_count": 0,
      "outputs": [
        {
          "output_type": "stream",
          "text": [
            "Drive already mounted at /content/drive; to attempt to forcibly remount, call drive.mount(\"/content/drive\", force_remount=True).\n"
          ],
          "name": "stdout"
        }
      ]
    },
    {
      "cell_type": "code",
      "metadata": {
        "id": "xBEXjEYM6d3u",
        "colab_type": "code",
        "outputId": "345a30fa-6093-4677-8ede-31397bf7c0da",
        "colab": {
          "base_uri": "https://localhost:8080/",
          "height": 54
        }
      },
      "source": [
        "'''\n",
        "NER.py\n",
        "AIT 726 Assignment 3: Named Entity Recognition\n",
        "Haritha G, Giridhar K\n",
        "Spring 2020\n",
        "Instructions for execution\n",
        "Pseudocode\n",
        "1. Read data\n",
        "    CONLL201\n",
        "    3\n",
        "    945 sentences\n",
        "    204566 words\n",
        "    O         38322\n",
        "    B-LOC      1668\n",
        "    B-ORG      1661\n",
        "    B-PER      1617\n",
        "    I-PER      1156\n",
        "    I-ORG       835\n",
        "    B-MISC      702\n",
        "    I-LOC       257\n",
        "    I-MISC      216\n",
        "    ignore chunk and POS information\n",
        "2. Formatting\n",
        "    Stop words are not removed\n",
        "    No Stemming\n",
        "    No Lemmatization\n",
        "    Tokenization is already done\n",
        "    padding 0s and tag is  <pad>\n",
        "    (every sentence will have the same length)\n",
        "3. Vector Representations\n",
        "    pretrained word embeddings given (word2vec) 300 dim x 3M words\n",
        "    lookup the representation for every word in the dataset's vocabulary\n",
        "    ------dimensions--------\n",
        "    input: |V| x 300\n",
        "    H: 256\n",
        "    Output: 10\n",
        "4. Classification architechtures  for Training\n",
        "    RNN, LSTM and GRU\n",
        "        one layer 256 hidden units\n",
        "        Fully connected output layer\n",
        "        Adam optimizer\n",
        "        cross-entropy loss\n",
        "        learning rate alpha= 0.0001\n",
        "        minibatch size = 2000 \n",
        "        200 epochs\n",
        "    Bidirectional RNN, LSTM, GRU\n",
        "        2 layers 256 hidden units each\n",
        "        Fully connected output layer\n",
        "        Adam optimizer\n",
        "        cross-entropy \n",
        "        alpha 0.0001\n",
        "        minibatch size= 2000\n",
        "        200 epochs\n",
        "5. Performance Evaluation on 20 epochs\n",
        "    Validation                  accuracy\n",
        "    RNN\n",
        "    LSTM\n",
        "    GRU\n",
        "    Bidirectional RNN\n",
        "    Bidirectional LSTM\n",
        "    Bidirectional GRU\n",
        "    \n",
        "6. Statistical test to check whether one model is better than the other\n",
        "    Test Accuracy \n",
        "    \n",
        "    Confusion Matrix\n",
        "    \n",
        "    References:\n",
        "    https://pytorch.org/tutorials/intermediate/char_rnn_classification_tutorial.html\n",
        "    https://medium.com/@martinpella/how-to-use-pre-trained-word-embeddings-in-pytorch-71ca59249f76\n",
        "    https://machinelearningmastery.com/develop-word-embeddings-python-gensim/\n",
        "    https://blog.floydhub.com/gru-with-pytorch/\n",
        "    #https://medium.com/p/717b88a128c0/responses/show\n",
        "    \n",
        "    '''"
      ],
      "execution_count": 0,
      "outputs": [
        {
          "output_type": "execute_result",
          "data": {
            "text/plain": [
              "\"\\nNER.py\\nAIT 726 Assignment 3: Named Entity Recognition\\nHaritha G, Giridhar K\\nSpring 2020\\nInstructions for execution\\nPseudocode\\n1. Read data\\n    CONLL201\\n    3\\n    945 sentences\\n    204566 words\\n    O         38322\\n    B-LOC      1668\\n    B-ORG      1661\\n    B-PER      1617\\n    I-PER      1156\\n    I-ORG       835\\n    B-MISC      702\\n    I-LOC       257\\n    I-MISC      216\\n    ignore chunk and POS information\\n2. Formatting\\n    Stop words are not removed\\n    No Stemming\\n    No Lemmatization\\n    Tokenization is already done\\n    padding 0s and tag is  <pad>\\n    (every sentence will have the same length)\\n3. Vector Representations\\n    pretrained word embeddings given (word2vec) 300 dim x 3M words\\n    lookup the representation for every word in the dataset's vocabulary\\n    ------dimensions--------\\n    input: |V| x 300\\n    H: 256\\n    Output: 10\\n4. Classification architechtures  for Training\\n    RNN, LSTM and GRU\\n        one layer 256 hidden units\\n        Fully connected output layer\\n        Adam optimizer\\n        cross-entropy loss\\n        learning rate alpha= 0.0001\\n        minibatch size = 2000 \\n        200 epochs\\n    Bidirectional RNN, LSTM, GRU\\n        2 layers 256 hidden units each\\n        Fully connected output layer\\n        Adam optimizer\\n        cross-entropy \\n        alpha 0.0001\\n        minibatch size= 2000\\n        200 epochs\\n5. Performance Evaluation on 20 epochs\\n    Validation                  accuracy\\n    RNN\\n    LSTM\\n    GRU\\n    Bidirectional RNN\\n    Bidirectional LSTM\\n    Bidirectional GRU\\n    \\n6. Statistical test to check whether one model is better than the other\\n    Test Accuracy \\n    \\n    Confusion Matrix\\n    \\n    References:\\n    https://pytorch.org/tutorials/intermediate/char_rnn_classification_tutorial.html\\n    https://medium.com/@martinpella/how-to-use-pre-trained-word-embeddings-in-pytorch-71ca59249f76\\n    https://machinelearningmastery.com/develop-word-embeddings-python-gensim/\\n    https://blog.floydhub.com/gru-with-pytorch/\\n    #https://medium.com/p/717b88a128c0/responses/show\\n    \\n    \""
            ]
          },
          "metadata": {
            "tags": []
          },
          "execution_count": 3
        }
      ]
    },
    {
      "cell_type": "markdown",
      "metadata": {
        "id": "R8QTfTBEgF8t",
        "colab_type": "text"
      },
      "source": [
        "Load packages"
      ]
    },
    {
      "cell_type": "code",
      "metadata": {
        "id": "h4sjyVoxVa-E",
        "colab_type": "code",
        "colab": {}
      },
      "source": [
        "import os\n",
        "import sys\n",
        "import re\n",
        "import time\n",
        "import pandas as pd\n",
        "import numpy as np\n",
        "import matplotlib.pyplot as plt\n",
        "import itertools\n",
        "import operator\n",
        "import random\n",
        "\n",
        "from collections import defaultdict\n",
        "from pathlib import Path\n",
        "\n",
        "import nltk as nl\n",
        "from nltk.tokenize import word_tokenize\n",
        "from nltk.tokenize.casual import TweetTokenizer\n",
        "from nltk.stem.snowball import SnowballStemmer\n",
        "from gensim import models\n",
        "\n",
        "import torch\n",
        "import torch.nn as nn\n",
        "import torch.optim as optim\n",
        "from torch.autograd import Variable\n",
        "from sklearn import preprocessing\n",
        "\n",
        "from sklearn.model_selection import train_test_split\n",
        "from sklearn.model_selection import StratifiedKFold\n",
        "from sklearn.pipeline import Pipeline\n",
        "from sklearn.feature_extraction.text import TfidfTransformer\n",
        "from sklearn.feature_extraction.text import CountVectorizer\n",
        "from sklearn.linear_model import LogisticRegression\n",
        "from sklearn.metrics import accuracy_score, f1_score\n",
        "\n",
        "import torch\n",
        "import torch.nn as nn\n",
        "from torch.autograd import Variable\n",
        "from torch.nn import functional as F\n",
        "\n",
        "stdoutorigin = sys.stdout\n",
        "sys.stdout = open(\"Statuslog.txt\", \"w\")\n",
        "\n",
        "'''\n",
        "This method does the following:\n",
        "    1. Lower case capitalized words\n",
        "        words that start with a capital letter, but not all capital words such as USA.\n",
        "    2. padding 0s and tag is  <pad> \n",
        "        Identify the sentence with max length\n",
        "        Append 0s at the end of shorter sentences to make them match this max length\n",
        "        Set the tag for the 0s to <pad>\n",
        "'''\n",
        "def preprocess(df):\n",
        "    def tolower(text):\n",
        "        lowerlist=[]\n",
        "        for word in text:\n",
        "            pattern = re.compile('[A-Z][a-z]+')\n",
        "            if re.match(pattern,word):\n",
        "                cleantext1 = re.sub(pattern, word.lower(), word)\n",
        "                lowerlist.append(cleantext1)\n",
        "            else:\n",
        "                lowerlist.append(word)\n",
        "        return lowerlist\n",
        "    def getMaxlength(words):\n",
        "        sentlist = []\n",
        "        sentence = []\n",
        "        for word in words:\n",
        "            if(word == '-DOCSTART-'):\n",
        "                sentlist.append(sentence)\n",
        "                sentence = []\n",
        "                continue\n",
        "            else:\n",
        "                sentence.append(word) \n",
        "        maxlen = max(len(x) for x in sentlist )\n",
        "        print('maximum length of sentence in the data is ', maxlen)\n",
        "        #print('sent with max length is -> ', max((x) for x in sentlist) )\n",
        "        print('Number of sentences are ', len(sentlist))\n",
        "        return maxlen, len(sentlist)\n",
        "    \n",
        "    df['word'] = tolower(df['word'])\n",
        "    maxsentlen, NoOfSents = getMaxlength(df['word'])\n",
        "    start = 0\n",
        "    index = 0\n",
        "    newwords = []\n",
        "    newpostag = []\n",
        "    newchunktag = []\n",
        "    newnertag = []\n",
        "    for index in range(0, len(df)):\n",
        "        if(df.iloc[index]['word'] != '-DOCSTART-'):\n",
        "            newwords.append(df.iloc[index]['word'])\n",
        "            newpostag.append(df.iloc[index]['pos'])\n",
        "            newchunktag.append(df.iloc[index]['chunk'])\n",
        "            newnertag.append(df.iloc[index]['ner'])\n",
        "            #index += 1\n",
        "            start += 1\n",
        "        else:\n",
        "            for i in range(start, maxsentlen):\n",
        "                newwords.append(0)\n",
        "                newpostag.append(0)\n",
        "                newchunktag.append(0)\n",
        "                newnertag.append('<pad>')\n",
        "            start = 0\n",
        "    \n",
        "    newdf = pd.DataFrame(list(zip(newwords, newpostag, newchunktag, newnertag)),  columns =['word', 'pos', 'chunk', 'ner'])\n",
        "    return newdf\n",
        "\n",
        "'''\n",
        "This method takes care of reading double quotes and NAs from the input text file for data  \n",
        "'''\n",
        "def cleaning(path, filename):\n",
        "    fin = open(path + filename, \"rt\")\n",
        "    fout = open(path + 'newdata/'+ filename, \"w+\")\n",
        "\n",
        "    for line in fin:\n",
        "        line = line.replace('\"', '/\"')\n",
        "        fout.write(line.replace('NA', 'None'))\n",
        "    \n",
        "    fin.close()\n",
        "    fout.close()"
      ],
      "execution_count": 0,
      "outputs": []
    },
    {
      "cell_type": "markdown",
      "metadata": {
        "id": "ciqGb28CUF5C",
        "colab_type": "text"
      },
      "source": [
        "### The below are the classes for RNN, LSTM and GRU classifiers\n",
        "The classes contain initializer and forward methods\n",
        "#### Arguments for init\n",
        "        batch_size : Fixed Size of the batch 2000\n",
        "        output_size : 10 (the class levels for NER)\n",
        "        hidden_size : 256 \n",
        "        vocab_size : Size of the vocabulary from train data\n",
        "        embedding_length : Embeddding dimension of Google news 300\n",
        "        word_embeddings : Pre-trained embedding vectors of google news from which the lookup table is created\n",
        "        bidirectional : Flag that indicates if the model should be bidirectional or not\n",
        "init_hidden is done based on the the bidirectional flag."
      ]
    },
    {
      "cell_type": "code",
      "metadata": {
        "id": "BdIX-bSEUAtc",
        "colab_type": "code",
        "colab": {}
      },
      "source": [
        "#RNN Class\n",
        "class RNN(nn.Module):\n",
        "    def __init__(self, batch_size, output_size, hidden_size, vocab_size, embedding_length, word_embeddings, bidirectional, requires_grad=False):\n",
        "        super(RNN, self).__init__()\n",
        "\n",
        "        self.batch_size = batch_size\n",
        "        self.output_size = output_size\n",
        "        self.hidden_size = hidden_size\n",
        "        self.vocab_size = vocab_size\n",
        "        self.embedding_length = embedding_length\n",
        "        self.bidirectional = bidirectional\n",
        "        \n",
        "        self.word_embeddings = nn.Embedding(vocab_size, embedding_length)\n",
        "        self.word_embeddings.weight = nn.Parameter(word_embeddings, requires_grad=False)\n",
        "        self.rnn = nn.RNN(embedding_length, hidden_size, num_layers=1, bidirectional=bidirectional)\n",
        "        if(self.bidirectional == True):\n",
        "            self.label = nn.Linear(2*hidden_size, output_size)\n",
        "        else:\n",
        "            self.label = nn.Linear(hidden_size, output_size)\n",
        "        self.softmax = nn.Softmax()\n",
        "    \n",
        "    def init_hidden(self, biflag, batch_size):\n",
        "        return Variable(torch.zeros(biflag, batch_size, self.hidden_size)).to(device)\n",
        "        \n",
        "    def forward(self, input_sentences, batch_size=None):        \n",
        "        input = self.word_embeddings(input_sentences)\n",
        "        input = input.permute(1, 0, 2)\n",
        "        \n",
        "        if(self.bidirectional == True):\n",
        "            self.hidden = self.init_hidden(2, batch_size)\n",
        "        else:\n",
        "            self.hidden = self.init_hidden(1, batch_size)\n",
        "       \n",
        "        output, h_n = self.rnn(input, self.hidden)\n",
        "        # h_n.size() = (4, batch_size, hidden_size)\n",
        "        h_n = h_n.permute(1, 0, 2) # h_n.size() = (batch_size, 4, hidden_size)\n",
        "        h_n = h_n.contiguous().view(h_n.size()[0], h_n.size()[1]*h_n.size()[2])\n",
        "        # h_n.size() = (batch_size, 4*hidden_size)\n",
        "        \n",
        "        logits = self.softmax(self.label(h_n)) # size is (batch_size, output_size)        \n",
        "        return logits\n",
        "\n",
        "#LSTM Class\n",
        "class LSTMClassifier(nn.Module):\n",
        "    def __init__(self, batch_size, output_size, hidden_size, vocab_size, embedding_length, word_embeddings, bidirectional, requires_grad=False):\n",
        "        super(LSTMClassifier, self).__init__()       \n",
        "        self.batch_size = batch_size\n",
        "        self.output_size = output_size\n",
        "        self.hidden_size = hidden_size\n",
        "        self.vocab_size = vocab_size\n",
        "        self.embedding_length = embedding_length\n",
        "        \n",
        "        self.bidirectional = bidirectional\n",
        "        self.word_embeddings = nn.Embedding(vocab_size, embedding_length)# Initializing the look-up table.\n",
        "        self.word_embeddings.weight = nn.Parameter(word_embeddings, requires_grad=False) # Assigning the look-up table to the pre-trained GloVe word embedding.\n",
        "        self.lstm = nn.LSTM(embedding_length, hidden_size, bidirectional=bidirectional)\n",
        "        self.label = nn.Linear(hidden_size, output_size)\n",
        "        self.softmax = nn.Softmax()\n",
        "        \n",
        "    def init_hidden(self, biflag, batch_size):\n",
        "        return(Variable(torch.randn(biflag, batch_size, self.hidden_size)).to(device),\n",
        "                        Variable(torch.randn(biflag, batch_size, self.hidden_size)).to(device))\n",
        "\n",
        "    def forward(self, input_sentence, batch_size):\n",
        "        input = self.word_embeddings(input_sentence) \n",
        "        input = input.permute(1, 0, 2)\n",
        "        if(self.bidirectional == True):\n",
        "            self.hidden = self.init_hidden(2, batch_size)\n",
        "        else:\n",
        "            self.hidden = self.init_hidden(1, batch_size)       \n",
        "        output, (final_hidden_state, final_cell_state) = self.lstm(input, self.hidden)\n",
        "        final_output = self.softmax(self.label(final_hidden_state[-1])) \n",
        "        \n",
        "        return final_output\n",
        "\n",
        "#GRU Class\n",
        "class GRUNet(nn.Module):\n",
        "    def __init__(self, batch_size, output_size, hidden_size, vocab_size, embedding_length, word_embeddings, bidirectional, requires_grad=False):\n",
        "        super(GRUNet, self).__init__()\n",
        "        \n",
        "        self.batch_size = batch_size\n",
        "        self.output_size = output_size\n",
        "        self.hidden_size = hidden_size\n",
        "        self.vocab_size = vocab_size\n",
        "        self.embedding_length = embedding_length\n",
        "        \n",
        "        self.bidirectional = bidirectional\n",
        "        self.word_embeddings = nn.Embedding(vocab_size, embedding_length)# Initializing the look-up table.\n",
        "        self.word_embeddings.weight = nn.Parameter(word_embeddings, requires_grad=False) # Assigning the look-up table to the pre-trained GloVe word embedding.\n",
        "        self.gru = nn.GRU(embedding_length, hidden_size, bidirectional=bidirectional)\n",
        "        if(self.bidirectional == True):\n",
        "            self.label = nn.Linear(2*hidden_size, output_size)\n",
        "        else:\n",
        "            self.label = nn.Linear(hidden_size, output_size)\n",
        "        self.softmax = nn.Softmax()\n",
        "        \n",
        "    def init_hidden(self,  biflag, batch_size):\n",
        "        return Variable(torch.zeros(biflag, batch_size, self.hidden_size)).to(device)\n",
        "               \n",
        "    def forward(self, input_sentence, batch_size=None):\n",
        "        input = self.word_embeddings(input_sentence) # orginal input dimensions are (batch_size, num_sequences,  embedding_length)\n",
        "        input = input.permute(1, 0, 2) # This is required because the dimesions expected by lstm is (num_sequences, batch_size, embedding_length)\n",
        "        if(self.bidirectional == True):\n",
        "            self.hidden = self.init_hidden(2, batch_size)\n",
        "        else:\n",
        "            self.hidden = self.init_hidden(1, batch_size)\n",
        "        output, h = self.gru(input, self.hidden)\n",
        "        final_out = self.softmax(self.label(output[-1]))\n",
        "        return final_out"
      ],
      "execution_count": 0,
      "outputs": []
    },
    {
      "cell_type": "markdown",
      "metadata": {
        "id": "agE0JeV3SrPg",
        "colab_type": "text"
      },
      "source": [
        "### This method trains on the given data for below parameters and validates. \n",
        "##### epochs : variable\n",
        "##### batch_size : 2000\n",
        "##### loss : cross_entropy\n",
        "##### optimizer : Adam\n",
        "##### Inputs : model, train_X, train_y, val_X, val_y, lr, epochs=2, batch_size=2000\n",
        "##### outputs : minimum validation loss, maximum validation accuracy"
      ]
    },
    {
      "cell_type": "code",
      "metadata": {
        "id": "xYYPnU-MSkxY",
        "colab_type": "code",
        "colab": {}
      },
      "source": [
        "def Training(model, train_X, train_y, val_X, val_y, lr, epochs=2, batch_size=2000):\n",
        "    if(val_X != None):\n",
        "      valid_preds = np.zeros((val_X.size(0)))\n",
        "    trainloss = []\n",
        "    testloss = []\n",
        "    testaccuracy = []\n",
        "    model.to(device)\n",
        "    print('started training- running for {} epochs'.format(epochs))\n",
        "    for e in range(epochs):\n",
        "        start_time = time.time()\n",
        "        optimizer = optim.Adam(model.parameters(), lr=lr)  #Optimizing with Stochastic Gradient Descent\n",
        "        loss_fn = F.cross_entropy\n",
        "        \n",
        "        #Convert to tensor data\n",
        "        train_tsdata = torch.utils.data.TensorDataset(train_X, train_y)\n",
        "        if(val_X != None):\n",
        "          valid_tsdata = torch.utils.data.TensorDataset(val_X, val_y)\n",
        "        #Feed the tensor data to data loader. This partitions the data based on batch size\n",
        "        train_loader = torch.utils.data.DataLoader(train_tsdata, batch_size=batch_size, shuffle=True)\n",
        "        if(val_X != None):\n",
        "          valid_loader = torch.utils.data.DataLoader(valid_tsdata, batch_size=batch_size, shuffle=False)\n",
        "        if(train_loader == None):\n",
        "            print('null object')\n",
        "        #Run the model on train set and capture loss\n",
        "        else:\n",
        "            model.train()\n",
        "            avg_loss = 0.\n",
        "            #counter = 0\n",
        "            for x_batch, y_batch in train_loader:\n",
        "                X = Variable(torch.LongTensor(x_batch)).to(device)\n",
        "                y = Variable(torch.LongTensor(y_batch.long())).to(device)\n",
        "                optimizer.zero_grad() #null the gradients\n",
        "                y_pred = model(X, X.shape[0]) #forward pass                \n",
        "                loss = loss_fn(y_pred.squeeze(), y.squeeze()) #Compute loss                \n",
        "                loss.backward() #back propagate\n",
        "                optimizer.step()\n",
        "                avg_loss += loss.item() / len(train_loader)\n",
        "            trainloss.append(avg_loss)\n",
        "            \n",
        "            if(val_X != None):\n",
        "              #Run the model on validation set and capture loss\n",
        "              model.eval()\n",
        "              avg_val_loss = 0.\n",
        "              testacc = 0\n",
        "              for i, (x_batch, y_batch) in enumerate(valid_loader):\n",
        "                  X_val = Variable(torch.LongTensor(x_batch)).to(device)\n",
        "                  y_val = Variable(torch.LongTensor(y_batch.long())).to(device)\n",
        "                  y_pred_val = model(X_val, X_val.shape[0])\n",
        "                  avg_val_loss += loss_fn(y_pred_val.squeeze(), y_val.squeeze()).item() / len(valid_loader)\n",
        "                  #valid_preds[i * batch_size:(i+1) * batch_size] = y_pred_val[:, 0].data.to(device)\n",
        "                  #p =torch.argmax().data.cpu().numpy()   \n",
        "                  p = y_pred_val.argmax(dim=1).cpu().numpy() #Predictions               \n",
        "                  r = y_batch.float()[:, 0].data.cpu().numpy() #Truth\n",
        "                  testacc += np.sum(p == r)                \n",
        "              elapsed_time = time.time() - start_time\n",
        "      \n",
        "              if (e % 10 == 9):\n",
        "                print('\\t Epoch {}/{} \\t loss={:.4f} \\t val_loss={:.4f} \\t time={:.2f}s'.format(e + 1, epochs, avg_loss, avg_val_loss, elapsed_time))\n",
        "              testloss.append(avg_val_loss)\n",
        "              testaccuracy.append(testacc/ len(val_y))\n",
        "\n",
        "    if(len(testloss) > 0):  \n",
        "      #Visualize the trainloss, validation loss and validation accuracy\n",
        "      plt.title(\"plot of train,val loss and val accuracy for lr = {}\".format(lr))\n",
        "      plt.plot(trainloss)\n",
        "      plt.plot(testloss)\n",
        "      plt.show()\n",
        "      plt.title(\"plot of val accuracy for lr = {}\".format(lr))\n",
        "      plt.plot(testaccuracy)\n",
        "      plt.show()\n",
        "    return testloss, testaccuracy"
      ],
      "execution_count": 0,
      "outputs": []
    },
    {
      "cell_type": "markdown",
      "metadata": {
        "id": "4mDzLh1mSmaS",
        "colab_type": "text"
      },
      "source": [
        "This method is used for testing and returning the final predictions.\n",
        "\n",
        "Inputs are testX, test label, and the model that is loaded from the saved artefacts\n"
      ]
    },
    {
      "cell_type": "code",
      "metadata": {
        "id": "TTy_DaH23SZ7",
        "colab_type": "code",
        "colab": {}
      },
      "source": [
        "def Testing(test_X, test_y, model):\n",
        "  predictions = [] #np.zeros((test_X.size(0)))\n",
        "  test_tsdata = torch.utils.data.TensorDataset(test_X, test_y)\n",
        "  test_loader = torch.utils.data.DataLoader(test_tsdata, batch_size=1, shuffle=False)\n",
        "  for i, (x_batch, y_batch) in enumerate(test_loader):\n",
        "    X_test = Variable(torch.LongTensor(x_batch)).to(device)\n",
        "    y_test = Variable(torch.LongTensor(y_batch.long())).to(device)\n",
        "    y_pred_test = model(X_test, X_test.shape[0])\n",
        "    predictions.append(np.argmax(y_pred_test.data.cpu().numpy()))\n",
        "  return predictions"
      ],
      "execution_count": 0,
      "outputs": []
    },
    {
      "cell_type": "markdown",
      "metadata": {
        "id": "2jf0Z5ZiE49p",
        "colab_type": "text"
      },
      "source": [
        "### preprocessing and preparing data"
      ]
    },
    {
      "cell_type": "code",
      "metadata": {
        "id": "TTcNSaFCVWJK",
        "colab_type": "code",
        "colab": {}
      },
      "source": [
        "traindata= pd.read_csv(\"train.txt\", sep= ' ')\n",
        "validata= pd.read_csv(\"valid.txt\", sep= ' ')\n",
        "testdata= pd.read_csv(\"test.txt\", sep= ' ')\n",
        "\n",
        "print(traindata.head(10))\n",
        "print(traindata.columns)\n",
        "\n",
        "print(traindata.shape)\n",
        "traindata.columns = ['word', 'pos', 'chunk', 'ner']\n",
        "validata.columns = ['word', 'pos', 'chunk', 'ner']\n",
        "\n",
        "newdf = preprocess(traindata)\n",
        "print('preprocess train done')\n",
        "newdf_val = preprocess(validata)\n",
        "print('preprocess validation done')\n"
      ],
      "execution_count": 0,
      "outputs": []
    },
    {
      "cell_type": "code",
      "metadata": {
        "id": "apzEcF6K1aHR",
        "colab_type": "code",
        "colab": {}
      },
      "source": [
        "testdata.columns = ['word', 'pos', 'chunk', 'ner']\n",
        "newdf_test = preprocess(testdata)\n",
        "print('preprocess test done')"
      ],
      "execution_count": 0,
      "outputs": []
    },
    {
      "cell_type": "code",
      "metadata": {
        "id": "8Y04ilE9LCUh",
        "colab_type": "code",
        "outputId": "99b4eef6-b690-40d8-f00d-f5c0b46f968c",
        "colab": {
          "base_uri": "https://localhost:8080/",
          "height": 70
        }
      },
      "source": [
        "#Load Embedding file\n",
        "google = models.KeyedVectors.load_word2vec_format('/content/drive/My Drive/NLP/GoogleNews-vectors-negative300.bin', binary=True)\n",
        "print('Loaded Embedding file')"
      ],
      "execution_count": 8,
      "outputs": [
        {
          "output_type": "stream",
          "text": [
            "/usr/local/lib/python3.6/dist-packages/smart_open/smart_open_lib.py:253: UserWarning: This function is deprecated, use smart_open.open instead. See the migration notes for details: https://github.com/RaRe-Technologies/smart_open/blob/master/README.rst#migrating-to-the-new-open-function\n",
            "  'See the migration notes for details: %s' % _MIGRATION_NOTES_URL\n"
          ],
          "name": "stderr"
        }
      ]
    },
    {
      "cell_type": "code",
      "metadata": {
        "id": "uX_Qa4tvXofB",
        "colab_type": "code",
        "colab": {}
      },
      "source": [
        "#creating vocabulary\n",
        "def createvocab(text):\n",
        "      V=[]\n",
        "      for word in text:\n",
        "          if word in V:\n",
        "              continue\n",
        "          else :\n",
        "              V.append(word)\n",
        "      return V\n",
        "\n",
        "def createWeightsLookup(text, embedding):\n",
        "  vocab = createvocab(text)\n",
        "  print('vocab length is ', len(vocab))\n",
        "  \n",
        "  matrix_len = len(vocab)\n",
        "  weights_matrix = np.zeros((matrix_len, 300))\n",
        "  words_found = 0\n",
        "\n",
        "  #Create dictionary of words and representation from google news vector\n",
        "  for i, word in enumerate(vocab):\n",
        "      try: \n",
        "          word = str(word)\n",
        "          weights_matrix[i] = embedding[word]\n",
        "          words_found += 1\n",
        "      except KeyError:\n",
        "          weights_matrix[i] = np.zeros((300,))\n",
        "\n",
        "  print('Created weights matrix from pre trained that would act as a basis for lookup table')\n",
        "  return vocab, weights_matrix\n",
        "\n",
        "#This assigns the indices for words given the dataset\n",
        "def PrepareDataForNeuralNetwork(data, indexvecs):\n",
        "  #Get words from train data as X and assign indices \n",
        "  X = data.word.copy()\n",
        "  #Subset to not include 0's because this lookup is taking time\n",
        "  words = X[X != 0]\n",
        "  indices = words.index\n",
        "  #Lookup the indices of the words in training data row by row from indexvecs created above\n",
        "  for i, word in zip(indices, words):\n",
        "    X[i] = indexvecs[word] if word in indexvecs else 0 \n",
        "  #For zeros assign it seperately\n",
        "  zeroindex = data[data.word == 0].index\n",
        "  X[zeroindex] = indexvecs['0']\n",
        "  return X"
      ],
      "execution_count": 0,
      "outputs": []
    },
    {
      "cell_type": "code",
      "metadata": {
        "id": "kzHPpwtFV0l4",
        "colab_type": "code",
        "colab": {}
      },
      "source": [
        "#Gather the indixes for words from vocabulary\n",
        "vocab, weights_matrix = createWeightsLookup(newdf.word, google)\n",
        "wordindexlookup = {wx: vocab.index(wx) for wx in vocab}\n",
        "train_X = PrepareDataForNeuralNetwork(newdf, wordindexlookup)\n",
        "val_X = PrepareDataForNeuralNetwork(newdf_val, wordindexlookup)\n",
        "test_X = PrepareDataForNeuralNetwork(newdf_test, wordindexlookup)\n",
        "\n",
        "#Label encode the output feature\n",
        "le = preprocessing.LabelEncoder()\n",
        "ytrain = le.fit_transform(newdf.ner.values)\n",
        "yval = le.transform(newdf_val.ner.values)\n",
        "ytest = le.transform(newdf_test.ner.values)"
      ],
      "execution_count": 0,
      "outputs": []
    },
    {
      "cell_type": "code",
      "metadata": {
        "id": "_8ScdmrIKp_s",
        "colab_type": "code",
        "colab": {}
      },
      "source": [
        "print(len(train_X))\n",
        "print(len(newdf))\n",
        "print(len(val_X))\n",
        "print(len(newdf_val))\n",
        "print(len(test_X))\n",
        "print(len(newdf_test))"
      ],
      "execution_count": 0,
      "outputs": []
    },
    {
      "cell_type": "code",
      "metadata": {
        "id": "IGbxDlw71wtY",
        "colab_type": "code",
        "colab": {}
      },
      "source": [
        ""
      ],
      "execution_count": 0,
      "outputs": []
    },
    {
      "cell_type": "code",
      "metadata": {
        "id": "wsAkF44_5xQw",
        "colab_type": "code",
        "colab": {}
      },
      "source": [
        ""
      ],
      "execution_count": 0,
      "outputs": []
    },
    {
      "cell_type": "markdown",
      "metadata": {
        "id": "LyVNZdDn1Uev",
        "colab_type": "text"
      },
      "source": [
        "### Data preparation for training"
      ]
    },
    {
      "cell_type": "code",
      "metadata": {
        "id": "nDv_ON-TXm5_",
        "colab_type": "code",
        "colab": {}
      },
      "source": [
        "#Enable GPU if available\n",
        "device = torch.device(\"cuda\" if torch.cuda.is_available() else \"cpu\")\n",
        "\n",
        "#Convert train data to tensors\n",
        "train_Xf= np.array(train_X.values.astype(int).reshape((newdf.shape[0],-1)))\n",
        "trainX = torch.from_numpy(train_Xf).long()\n",
        "trainy = torch.from_numpy(ytrain.reshape((newdf.shape[0],-1))).long()\n",
        "#Convert validation data to tensors\n",
        "val_Xf= np.array(val_X.values.astype(int).reshape((newdf_val.shape[0],-1)))\n",
        "valX = torch.from_numpy(val_Xf).long()\n",
        "valy = torch.from_numpy(yval.reshape((newdf_val.shape[0],-1))).long()\n",
        "print(trainX.shape)\n",
        "print(trainy.shape)\n",
        "print(valX.shape)\n",
        "print(valy.shape)\n",
        "#Convert test data to tensors\n",
        "test_Xf= np.array(test_X.values.astype(int).reshape((newdf_test.shape[0],-1)))\n",
        "testX = torch.from_numpy(test_Xf).long()\n",
        "testy = torch.from_numpy(ytest.reshape((newdf_test.shape[0],-1))).long()\n",
        "print(testX.shape)\n",
        "print(testy.shape)\n",
        "print('Data ready for training')"
      ],
      "execution_count": 0,
      "outputs": []
    },
    {
      "cell_type": "markdown",
      "metadata": {
        "id": "lTqCl863aal2",
        "colab_type": "text"
      },
      "source": [
        "### Model Building"
      ]
    },
    {
      "cell_type": "code",
      "metadata": {
        "id": "dIX8YfOcLPC4",
        "colab_type": "code",
        "colab": {}
      },
      "source": [
        "#Set the parameters\n",
        "learningrate = 0.001\n",
        "runs = 50\n",
        "models = ['rnn', 'birnn', 'lstm', 'bilstm', 'gru', 'bigru']\n",
        "modelacc = {el:0 for el in models}"
      ],
      "execution_count": 0,
      "outputs": []
    },
    {
      "cell_type": "markdown",
      "metadata": {
        "id": "ADGtC3-dd6oa",
        "colab_type": "text"
      },
      "source": [
        "RNN:\n",
        "training"
      ]
    },
    {
      "cell_type": "code",
      "metadata": {
        "id": "VGYjIhA43Zfz",
        "colab_type": "code",
        "outputId": "5edf468c-f5ba-4925-cb86-296bed6591db",
        "colab": {
          "base_uri": "https://localhost:8080/",
          "height": 582
        }
      },
      "source": [
        "print(\"****************** RNN ******************\")\n",
        "print(\"Training.....\")\n",
        "\n",
        "wm = torch.from_numpy(weights_matrix).float()\n",
        "model_rnn = RNN(batch_size= 2000, output_size= len(newdf.ner.unique()), hidden_size = 256, vocab_size = len(vocab), embedding_length = 300, word_embeddings= wm, bidirectional = False)\n",
        "loss_r, acc_r = Training(model_rnn, trainX, trainy, valX, valy, lr= learningrate, epochs=runs, batch_size=2000)\n",
        "path = '/content/drive/My Drive/ModelArtefacts/RNN/rnn.pt'\n",
        "torch.save(model_rnn.state_dict(), path)\n",
        "modelacc['rnn'] = max(acc_r)"
      ],
      "execution_count": 0,
      "outputs": [
        {
          "output_type": "stream",
          "text": [
            "/usr/local/lib/python3.6/dist-packages/ipykernel_launcher.py:39: UserWarning: Implicit dimension choice for softmax has been deprecated. Change the call to include dim=X as an argument.\n"
          ],
          "name": "stderr"
        },
        {
          "output_type": "display_data",
          "data": {
            "image/png": "[encoded data removed]",
            "text/plain": [
              "<Figure size 432x288 with 1 Axes>"
            ]
          },
          "metadata": {
            "tags": [],
            "needs_background": "light"
          }
        },
        {
          "output_type": "display_data",
          "data": {
            "image/png": "[encoded data removed]",
            "text/plain": [
              "<Figure size 432x288 with 1 Axes>"
            ]
          },
          "metadata": {
            "tags": [],
            "needs_background": "light"
          }
        }
      ]
    },
    {
      "cell_type": "code",
      "metadata": {
        "id": "P8z8Woa7F-g4",
        "colab_type": "code",
        "colab": {}
      },
      "source": [
        "print('Minimum Validation loss is ', np.round(min(loss_r), 2) )\n",
        "print('Maximum Validation accuracy is ', np.round(max(acc_r), 2))"
      ],
      "execution_count": 0,
      "outputs": []
    },
    {
      "cell_type": "code",
      "metadata": {
        "id": "y7nediIv9k5P",
        "colab_type": "code",
        "outputId": "c406ed71-bc7e-48da-b16e-fae1b18fca8d",
        "colab": {
          "base_uri": "https://localhost:8080/",
          "height": 54
        }
      },
      "source": [
        "#Testing\n",
        "print(\"Testing.....\")\n",
        "model_rnn.load_state_dict(torch.load(path))\n",
        "preds_v_r = Testing(valX, valy, model_rnn)\n",
        "preds_r = Testing(testX, testy, model_rnn)\n",
        "print(\"Done\")\n"
      ],
      "execution_count": 0,
      "outputs": [
        {
          "output_type": "stream",
          "text": [
            "/usr/local/lib/python3.6/dist-packages/ipykernel_launcher.py:39: UserWarning: Implicit dimension choice for softmax has been deprecated. Change the call to include dim=X as an argument.\n"
          ],
          "name": "stderr"
        }
      ]
    },
    {
      "cell_type": "code",
      "metadata": {
        "id": "1O60UF2eJYJ3",
        "colab_type": "code",
        "colab": {}
      },
      "source": [
        ""
      ],
      "execution_count": 0,
      "outputs": []
    },
    {
      "cell_type": "code",
      "metadata": {
        "id": "BfvubVnNt4N0",
        "colab_type": "code",
        "colab": {}
      },
      "source": [
        "\n",
        "file1 = open(\"/content/drive/My Drive/ModelArtefacts/rnn.txt\",\"w\") \n",
        "file1.writelines(str(preds_v_r))\n",
        "file1.close()\n",
        "file1 = open(\"/content/drive/My Drive/ModelArtefacts/rnn_test.txt\",\"w\") \n",
        "file1.writelines(str(preds_r))\n",
        "file1.close()"
      ],
      "execution_count": 0,
      "outputs": []
    },
    {
      "cell_type": "code",
      "metadata": {
        "id": "MPmvg45BERQG",
        "colab_type": "code",
        "colab": {}
      },
      "source": [
        "# #Script to read the above text file and get predictions\n",
        "# file = open(\"rnn - Copy.txt\",\"r+\") \n",
        "# v = file.read()\n",
        "# len(list(map(int, v[1:-1].split(', '))))\n",
        "# file.close()"
      ],
      "execution_count": 0,
      "outputs": []
    },
    {
      "cell_type": "code",
      "metadata": {
        "id": "k7stmdZlJZh_",
        "colab_type": "code",
        "colab": {}
      },
      "source": [
        ""
      ],
      "execution_count": 0,
      "outputs": []
    },
    {
      "cell_type": "code",
      "metadata": {
        "id": "g0KYRbK63dAp",
        "colab_type": "code",
        "outputId": "48035eae-8838-4e19-e801-865f434a5532",
        "colab": {
          "base_uri": "https://localhost:8080/",
          "height": 582
        }
      },
      "source": [
        "#Bidirectional-RNN\n",
        "print(\"****************** Bidirectional - RNN ******************\")\n",
        "print(\"Training.....\")\n",
        "wm = torch.from_numpy(weights_matrix).float()\n",
        "model_bi_rnn = RNN(batch_size= 2000, output_size= len(newdf.ner.unique()), hidden_size = 256, vocab_size = len(vocab), embedding_length = 300, word_embeddings= wm, bidirectional = True)\n",
        "loss_bi_r, acc_bi_r = Training(model_bi_rnn, trainX, trainy, valX, valy, lr= learningrate, epochs=runs, batch_size=2000)\n",
        "path = '/content/drive/My Drive/ModelArtefacts/BIRNN/birnn.pt'\n",
        "torch.save(model_bi_rnn.state_dict(), path)\n",
        "modelacc['birnn'] = max(acc_bi_r)"
      ],
      "execution_count": 0,
      "outputs": [
        {
          "output_type": "stream",
          "text": [
            "/usr/local/lib/python3.6/dist-packages/ipykernel_launcher.py:39: UserWarning: Implicit dimension choice for softmax has been deprecated. Change the call to include dim=X as an argument.\n"
          ],
          "name": "stderr"
        },
        {
          "output_type": "display_data",
          "data": {
            "image/png": "[encoded data removed]",
            "text/plain": [
              "<Figure size 432x288 with 1 Axes>"
            ]
          },
          "metadata": {
            "tags": [],
            "needs_background": "light"
          }
        },
        {
          "output_type": "display_data",
          "data": {
            "image/png": "[encoded data removed]",
            "text/plain": [
              "<Figure size 432x288 with 1 Axes>"
            ]
          },
          "metadata": {
            "tags": [],
            "needs_background": "light"
          }
        }
      ]
    },
    {
      "cell_type": "code",
      "metadata": {
        "id": "9kPeslrFGOHk",
        "colab_type": "code",
        "colab": {}
      },
      "source": [
        "print('Minimum Validation loss is ', np.round(min(loss_bi_r), 2) )\n",
        "print('Maximum Validation accuracy is ', np.round(max(acc_bi_r), 2))"
      ],
      "execution_count": 0,
      "outputs": []
    },
    {
      "cell_type": "code",
      "metadata": {
        "id": "bbMLfiFlCwAz",
        "colab_type": "code",
        "outputId": "471c9087-fe59-4021-90aa-2feeef827dec",
        "colab": {
          "base_uri": "https://localhost:8080/",
          "height": 54
        }
      },
      "source": [
        "#Testing\n",
        "print(\"Testing.....\")\n",
        "model_bi_rnn.load_state_dict(torch.load(path))\n",
        "preds_bi_v_r = Testing(valX, valy, model_bi_rnn)\n",
        "preds_bi_r = Testing(testX, testy, model_bi_rnn)\n",
        "print(\"Done\")\n",
        "\n",
        "file1 = open(\"/content/drive/My Drive/ModelArtefacts/birnn.txt\",\"w\") \n",
        "file1.writelines(str(preds_bi_v_r)) \n",
        "file1.close()\n",
        "file1 = open(\"/content/drive/My Drive/ModelArtefacts/birnntest.txt\",\"w\")\n",
        "file1.writelines(str(preds_bi_r)) \n",
        "file1.close()"
      ],
      "execution_count": 0,
      "outputs": [
        {
          "output_type": "stream",
          "text": [
            "/usr/local/lib/python3.6/dist-packages/ipykernel_launcher.py:39: UserWarning: Implicit dimension choice for softmax has been deprecated. Change the call to include dim=X as an argument.\n"
          ],
          "name": "stderr"
        }
      ]
    },
    {
      "cell_type": "code",
      "metadata": {
        "id": "E2dt9o0Fkx95",
        "colab_type": "code",
        "outputId": "05c6271f-af93-4fce-f91b-9a6fce09fe23",
        "colab": {
          "base_uri": "https://localhost:8080/",
          "height": 582
        }
      },
      "source": [
        "#LSTM\n",
        "#Training\n",
        "print(\"****************** LSTM ******************\")\n",
        "print(\"Training.....\")\n",
        "wm = torch.from_numpy(weights_matrix).float()\n",
        "model_lstm = LSTMClassifier(batch_size= 2000, output_size= len(newdf.ner.unique()), hidden_size = 256, vocab_size = len(vocab), embedding_length = 300, word_embeddings= wm, bidirectional = False)\n",
        "loss_l, acc_l = Training(model_lstm, trainX, trainy, valX, valy, lr= learningrate, epochs=runs, batch_size=2000)\n",
        "path = '/content/drive/My Drive/ModelArtefacts/LSTM/lstm.pt'\n",
        "torch.save(model_lstm.state_dict(), path)\n",
        "modelacc['lstm'] = max(acc_l)"
      ],
      "execution_count": 0,
      "outputs": [
        {
          "output_type": "stream",
          "text": [
            "/usr/local/lib/python3.6/dist-packages/ipykernel_launcher.py:71: UserWarning: Implicit dimension choice for softmax has been deprecated. Change the call to include dim=X as an argument.\n"
          ],
          "name": "stderr"
        },
        {
          "output_type": "display_data",
          "data": {
            "image/png": "[encoded data removed]",
            "text/plain": [
              "<Figure size 432x288 with 1 Axes>"
            ]
          },
          "metadata": {
            "tags": [],
            "needs_background": "light"
          }
        },
        {
          "output_type": "display_data",
          "data": {
            "image/png": "[encoded data removed]",
            "text/plain": [
              "<Figure size 432x288 with 1 Axes>"
            ]
          },
          "metadata": {
            "tags": [],
            "needs_background": "light"
          }
        }
      ]
    },
    {
      "cell_type": "code",
      "metadata": {
        "id": "_8BHqKRoGQgg",
        "colab_type": "code",
        "colab": {}
      },
      "source": [
        "print('Minimum Validation loss is ', np.round(min(loss_l), 2) )\n",
        "print('Maximum Validation accuracy is ', np.round(max(acc_l), 2))"
      ],
      "execution_count": 0,
      "outputs": []
    },
    {
      "cell_type": "code",
      "metadata": {
        "id": "c_1zGMhPw0uW",
        "colab_type": "code",
        "outputId": "24d54267-fb08-4c56-fc22-cca7ba657589",
        "colab": {
          "base_uri": "https://localhost:8080/",
          "height": 54
        }
      },
      "source": [
        "#Testing\n",
        "print(\"Testing.....\")\n",
        "model_lstm.load_state_dict(torch.load(path))\n",
        "preds_v_l = Testing(valX, valy, model_lstm)\n",
        "preds_l = Testing(testX, testy, model_lstm)\n",
        "print(\"Done\")\n",
        "\n",
        "file1 = open(\"/content/drive/My Drive/ModelArtefacts/lstm.txt\",\"w\") \n",
        "file1.writelines(str(preds_v_l)) \n",
        "file1.close()\n",
        "file1 = open(\"/content/drive/My Drive/ModelArtefacts/lstmtest.txt\",\"w\") \n",
        "file1.writelines(str(preds_l)) \n",
        "file1.close()"
      ],
      "execution_count": 0,
      "outputs": [
        {
          "output_type": "stream",
          "text": [
            "/usr/local/lib/python3.6/dist-packages/ipykernel_launcher.py:71: UserWarning: Implicit dimension choice for softmax has been deprecated. Change the call to include dim=X as an argument.\n"
          ],
          "name": "stderr"
        }
      ]
    },
    {
      "cell_type": "code",
      "metadata": {
        "id": "ApWp5ISzDXqx",
        "colab_type": "code",
        "outputId": "2c6a4d45-f5ae-4ddd-c4f3-5235718d47cf",
        "colab": {
          "base_uri": "https://localhost:8080/",
          "height": 582
        }
      },
      "source": [
        "#bidirectional LSTM\n",
        "#Training\n",
        "print(\"****************** Bidirectional - LSTM ******************\")\n",
        "print(\"Training.....\")\n",
        "wm = torch.from_numpy(weights_matrix).float()\n",
        "start_time = time.time()\n",
        "model_bi_lstm = LSTMClassifier(batch_size= 2000, output_size= len(newdf.ner.unique()), hidden_size = 256, vocab_size = len(vocab), embedding_length = 300, word_embeddings= wm, bidirectional = True)\n",
        "loss_bi_l, acc_bi_l = Training(model_bi_lstm, trainX, trainy, valX, valy, lr= learningrate, epochs=runs, batch_size=2000)\n",
        "elapsed_time = time.time() - start_time\n",
        "print('total time taken ', elapsed_time)\n",
        "modelacc['bilstm'] = max(acc_bi_l)"
      ],
      "execution_count": 0,
      "outputs": [
        {
          "output_type": "stream",
          "text": [
            "/usr/local/lib/python3.6/dist-packages/ipykernel_launcher.py:71: UserWarning: Implicit dimension choice for softmax has been deprecated. Change the call to include dim=X as an argument.\n"
          ],
          "name": "stderr"
        },
        {
          "output_type": "display_data",
          "data": {
            "image/png": "[encoded data removed]",
            "text/plain": [
              "<Figure size 432x288 with 1 Axes>"
            ]
          },
          "metadata": {
            "tags": [],
            "needs_background": "light"
          }
        },
        {
          "output_type": "display_data",
          "data": {
            "image/png": "[encoded data removed]",
            "text/plain": [
              "<Figure size 432x288 with 1 Axes>"
            ]
          },
          "metadata": {
            "tags": [],
            "needs_background": "light"
          }
        }
      ]
    },
    {
      "cell_type": "code",
      "metadata": {
        "id": "XuOWgG49GTUV",
        "colab_type": "code",
        "colab": {}
      },
      "source": [
        "print('Minimum Validation loss is ', np.round(min(loss_bi_l), 2) )\n",
        "print('Maximum Validation accuracy is ', np.round(max(acc_bi_l), 2))"
      ],
      "execution_count": 0,
      "outputs": []
    },
    {
      "cell_type": "code",
      "metadata": {
        "id": "3SDf92vApyvL",
        "colab_type": "code",
        "colab": {}
      },
      "source": [
        "path = '/content/drive/My Drive/ModelArtefacts/BILSTM/bilstm.pt'\n",
        "torch.save(model_bi_lstm.state_dict(), path)"
      ],
      "execution_count": 0,
      "outputs": []
    },
    {
      "cell_type": "code",
      "metadata": {
        "id": "w2fJ7F3s5qrq",
        "colab_type": "code",
        "outputId": "5d193b23-7b53-4cbe-c563-c2cbd223e3e3",
        "colab": {
          "base_uri": "https://localhost:8080/",
          "height": 54
        }
      },
      "source": [
        "#Testing\n",
        "print(\"Testing.....\")\n",
        "model_bi_lstm.load_state_dict(torch.load(path))\n",
        "preds_bi_v_l = Testing(valX, valy, model_bi_lstm)\n",
        "preds_bi_l = Testing(testX, testy, model_bi_lstm)\n",
        "print(\"Done\")\n",
        "\n",
        "file1 = open(\"/content/drive/My Drive/ModelArtefacts/bilstm.txt\",\"w\") \n",
        "file1.writelines(str(preds_bi_v_l)) \n",
        "file1.close()\n",
        "file1 = open(\"/content/drive/My Drive/ModelArtefacts/bilstmtest.txt\",\"w\") \n",
        "file1.writelines(str(preds_bi_l)) \n",
        "file1.close()"
      ],
      "execution_count": 0,
      "outputs": [
        {
          "output_type": "stream",
          "text": [
            "/usr/local/lib/python3.6/dist-packages/ipykernel_launcher.py:71: UserWarning: Implicit dimension choice for softmax has been deprecated. Change the call to include dim=X as an argument.\n"
          ],
          "name": "stderr"
        }
      ]
    },
    {
      "cell_type": "code",
      "metadata": {
        "id": "1NwNq-zj-ZXG",
        "colab_type": "code",
        "outputId": "67fa3c16-021f-4178-941e-6c8277ddf488",
        "colab": {
          "base_uri": "https://localhost:8080/",
          "height": 582
        }
      },
      "source": [
        "#GRU\n",
        "# training\n",
        "print(\"****************** GRU ******************\")\n",
        "print(\"Training.....\")\n",
        "wm = torch.from_numpy(weights_matrix).float()\n",
        "model_gru = GRUNet(batch_size= 2000, output_size= len(newdf.ner.unique()), hidden_size = 256, vocab_size = len(vocab), embedding_length = 300, word_embeddings= wm, bidirectional = False)\n",
        "loss_g, acc_g = Training(model_gru, trainX, trainy, valX, valy, lr= learningrate, epochs=runs, batch_size=2000)\n",
        "path = '/content/drive/My Drive/ModelArtefacts/GRU/gru.pt'\n",
        "torch.save(model_gru.state_dict(), path)\n",
        "modelacc['gru'] = max(acc_g)"
      ],
      "execution_count": 0,
      "outputs": [
        {
          "output_type": "stream",
          "text": [
            "/usr/local/lib/python3.6/dist-packages/ipykernel_launcher.py:107: UserWarning: Implicit dimension choice for softmax has been deprecated. Change the call to include dim=X as an argument.\n"
          ],
          "name": "stderr"
        },
        {
          "output_type": "display_data",
          "data": {
            "image/png": "[encoded data removed]",
            "text/plain": [
              "<Figure size 432x288 with 1 Axes>"
            ]
          },
          "metadata": {
            "tags": [],
            "needs_background": "light"
          }
        },
        {
          "output_type": "display_data",
          "data": {
            "image/png": "[encoded data removed]",
            "text/plain": [
              "<Figure size 432x288 with 1 Axes>"
            ]
          },
          "metadata": {
            "tags": [],
            "needs_background": "light"
          }
        }
      ]
    },
    {
      "cell_type": "code",
      "metadata": {
        "id": "7YwU1_ccGYvq",
        "colab_type": "code",
        "colab": {}
      },
      "source": [
        "print('Minimum Validation loss is ', np.round(min(loss_g), 2) )\n",
        "print('Maximum Validation accuracy is ', np.round(max(acc_g), 2))"
      ],
      "execution_count": 0,
      "outputs": []
    },
    {
      "cell_type": "code",
      "metadata": {
        "id": "dmKopSEB-bZv",
        "colab_type": "code",
        "outputId": "661b3e1a-1f06-446d-d1c0-ff11f37d5c81",
        "colab": {
          "base_uri": "https://localhost:8080/",
          "height": 54
        }
      },
      "source": [
        "#Testing\n",
        "print(\"Testing.....\")\n",
        "model_gru.load_state_dict(torch.load(path))\n",
        "preds_v_g = Testing(valX, valy, model_gru)\n",
        "preds_g = Testing(testX, testy, model_gru)\n",
        "print(\"Done\")\n",
        "\n",
        "file1 = open(\"/content/drive/My Drive/ModelArtefacts/gru.txt\",\"w\") \n",
        "file1.writelines(str(preds_v_g)) \n",
        "file1.close()\n",
        "file1 = open(\"/content/drive/My Drive/ModelArtefacts/grutest.txt\",\"w\") \n",
        "file1.writelines(str(preds_g)) \n",
        "file1.close()"
      ],
      "execution_count": 0,
      "outputs": [
        {
          "output_type": "stream",
          "text": [
            "/usr/local/lib/python3.6/dist-packages/ipykernel_launcher.py:107: UserWarning: Implicit dimension choice for softmax has been deprecated. Change the call to include dim=X as an argument.\n"
          ],
          "name": "stderr"
        }
      ]
    },
    {
      "cell_type": "code",
      "metadata": {
        "id": "RKU6o7Pp-bXR",
        "colab_type": "code",
        "outputId": "71531fb1-32e1-4027-eb27-2e556e655df5",
        "colab": {
          "base_uri": "https://localhost:8080/",
          "height": 582
        }
      },
      "source": [
        "#Bidirectional - GRU\n",
        "#Training\n",
        "print(\"****************** Bidirectional - GRU ******************\")\n",
        "print(\"Training.....\")\n",
        "wm = torch.from_numpy(weights_matrix).float()\n",
        "model_bi_gru = GRUNet(batch_size= 2000, output_size= len(newdf.ner.unique()), hidden_size = 256, vocab_size = len(vocab), embedding_length = 300, word_embeddings= wm, bidirectional = True)\n",
        "loss_bi_g, acc_bi_g = Training(model_bi_gru, trainX, trainy, valX, valy, lr= learningrate, epochs=runs, batch_size=2000)\n",
        "path = '/content/drive/My Drive/ModelArtefacts/BIGRU/bigru.pt'\n",
        "torch.save(model_bi_gru.state_dict(), path)\n",
        "modelacc['bigru'] = max(acc_bi_g)"
      ],
      "execution_count": 0,
      "outputs": [
        {
          "output_type": "stream",
          "text": [
            "/usr/local/lib/python3.6/dist-packages/ipykernel_launcher.py:107: UserWarning: Implicit dimension choice for softmax has been deprecated. Change the call to include dim=X as an argument.\n"
          ],
          "name": "stderr"
        },
        {
          "output_type": "display_data",
          "data": {
            "image/png": "[encoded data removed]",
            "text/plain": [
              "<Figure size 432x288 with 1 Axes>"
            ]
          },
          "metadata": {
            "tags": [],
            "needs_background": "light"
          }
        },
        {
          "output_type": "display_data",
          "data": {
            "image/png": "[encoded data removed]",
            "text/plain": [
              "<Figure size 432x288 with 1 Axes>"
            ]
          },
          "metadata": {
            "tags": [],
            "needs_background": "light"
          }
        }
      ]
    },
    {
      "cell_type": "code",
      "metadata": {
        "id": "038sZL7aGbwt",
        "colab_type": "code",
        "colab": {}
      },
      "source": [
        "print('Minimum Validation loss is ', np.round(min(loss_bi_g), 2) )\n",
        "print('Maximum Validation accuracy is ', np.round(max(acc_bi_g), 2))"
      ],
      "execution_count": 0,
      "outputs": []
    },
    {
      "cell_type": "code",
      "metadata": {
        "id": "oaw-72kY-Zih",
        "colab_type": "code",
        "outputId": "d925e050-e1d3-4db2-c74f-7715c4351c81",
        "colab": {
          "base_uri": "https://localhost:8080/",
          "height": 54
        }
      },
      "source": [
        "# Testing\n",
        "print(\"Testing.....\")\n",
        "model_bi_gru.load_state_dict(torch.load(path))\n",
        "preds_bi_v_g = Testing(valX, valy, model_bi_gru)\n",
        "preds_bi_g = Testing(testX, testy, model_bi_gru)\n",
        "print(\"Done\")\n",
        "\n",
        "file1 = open(\"/content/drive/My Drive/ModelArtefacts/bigru.txt\",\"w\") \n",
        "file1.writelines(str(preds_bi_v_g)) \n",
        "file1.close()\n",
        "file1 = open(\"/content/drive/My Drive/ModelArtefacts/bigrutest.txt\",\"w\") \n",
        "file1.writelines(str(preds_bi_g)) \n",
        "file1.close()"
      ],
      "execution_count": 0,
      "outputs": [
        {
          "output_type": "stream",
          "text": [
            "/usr/local/lib/python3.6/dist-packages/ipykernel_launcher.py:107: UserWarning: Implicit dimension choice for softmax has been deprecated. Change the call to include dim=X as an argument.\n"
          ],
          "name": "stderr"
        }
      ]
    },
    {
      "cell_type": "code",
      "metadata": {
        "id": "QGO3j2hToxsJ",
        "colab_type": "code",
        "colab": {}
      },
      "source": [
        "#This prints the csv file with numerical labels for each model along with truth \n",
        "colnames = ['word', 'gold', 'rnn', 'birnn', 'lstm', 'bilstm', 'gru', 'bigru']\n",
        "models = ['rnn', 'birnn', 'lstm', 'bilstm', 'gru', 'bigru']\n",
        "reals = valy.numpy().reshape(1,-1)[0].tolist()\n",
        "list_of_tuples = list(zip(newdf_val.word.values, reals, preds_v_r, preds_bi_v_r, preds_v_l, preds_bi_v_l, preds_v_g, preds_bi_v_g))\n",
        "predictions_df = pd.DataFrame(list_of_tuples, columns = colnames)\n",
        "\n",
        "predictions_df.to_csv('/content/drive/My Drive/ModelArtefacts/predictions_encoded.csv')"
      ],
      "execution_count": 0,
      "outputs": []
    },
    {
      "cell_type": "code",
      "metadata": {
        "id": "WA4tOHYJ-iLv",
        "colab_type": "code",
        "colab": {}
      },
      "source": [
        ""
      ],
      "execution_count": 0,
      "outputs": []
    },
    {
      "cell_type": "code",
      "metadata": {
        "id": "TOitormO-iJl",
        "colab_type": "code",
        "colab": {}
      },
      "source": [
        "print(modelacc)"
      ],
      "execution_count": 0,
      "outputs": []
    },
    {
      "cell_type": "markdown",
      "metadata": {
        "id": "mKMxhFbgP7MW",
        "colab_type": "text"
      },
      "source": [
        "#### Determine the best model"
      ]
    },
    {
      "cell_type": "markdown",
      "metadata": {
        "id": "bOJZD7RsiQ8E",
        "colab_type": "text"
      },
      "source": [
        "\n",
        "\n",
        "*  Based on accuracy returned for each model\n",
        "\n"
      ]
    },
    {
      "cell_type": "code",
      "metadata": {
        "id": "GWYr3Ad5iPQk",
        "colab_type": "code",
        "colab": {}
      },
      "source": [
        "print('Determine model with max accuracy---')\n",
        "ba = max(modelacc.items(), key=operator.itemgetter(1))\n",
        "print('model ', ba[0] , ' has the highest accuracy of ', np.round(ba[1], 2))"
      ],
      "execution_count": 0,
      "outputs": []
    },
    {
      "cell_type": "markdown",
      "metadata": {
        "id": "KCkpmAfmfxS9",
        "colab_type": "text"
      },
      "source": [
        "Account for 'pad' tags"
      ]
    },
    {
      "cell_type": "code",
      "metadata": {
        "id": "gU71NvSVfznt",
        "colab_type": "code",
        "colab": {}
      },
      "source": [
        "predictions_df = pd.read_csv(\"predictions.csv\")\n",
        "\n",
        "#Exclude ner labels with <pad>\n",
        "d = predictions_df[predictions_df['gold'] != 0]\n",
        "d = d.reset_index(drop = True)\n",
        "d.shape #(51362, 9)\n",
        "\n",
        "#collect labels and create value counts dictionary\n",
        "labelcol = newdf_test[newdf_test['ner'] != '<pad>']['ner']\n",
        "vc = labelcol.value_counts(normalize=True)"
      ],
      "execution_count": 0,
      "outputs": []
    },
    {
      "cell_type": "code",
      "metadata": {
        "id": "vjEfEG-nwVvm",
        "colab_type": "code",
        "outputId": "747318a2-5b3e-452d-8ab9-d485b9147837",
        "colab": {
          "base_uri": "https://localhost:8080/",
          "height": 185
        }
      },
      "source": [
        "vc"
      ],
      "execution_count": 0,
      "outputs": [
        {
          "output_type": "execute_result",
          "data": {
            "text/plain": [
              "O         0.825304\n",
              "B-LOC     0.035921\n",
              "B-ORG     0.035770\n",
              "B-PER     0.034823\n",
              "I-PER     0.024895\n",
              "I-ORG     0.017982\n",
              "B-MISC    0.015118\n",
              "I-LOC     0.005535\n",
              "I-MISC    0.004652\n",
              "Name: ner, dtype: float64"
            ]
          },
          "metadata": {
            "tags": []
          },
          "execution_count": 27
        }
      ]
    },
    {
      "cell_type": "code",
      "metadata": {
        "id": "31sPPZitCfCA",
        "colab_type": "code",
        "outputId": "8b7179ac-eaf6-4f1b-fa9f-f70a7b3bc5a2",
        "colab": {
          "base_uri": "https://localhost:8080/",
          "height": 195
        }
      },
      "source": [
        "d.head()"
      ],
      "execution_count": 0,
      "outputs": [
        {
          "output_type": "execute_result",
          "data": {
            "text/html": [
              "<div>\n",
              "<style scoped>\n",
              "    .dataframe tbody tr th:only-of-type {\n",
              "        vertical-align: middle;\n",
              "    }\n",
              "\n",
              "    .dataframe tbody tr th {\n",
              "        vertical-align: top;\n",
              "    }\n",
              "\n",
              "    .dataframe thead th {\n",
              "        text-align: right;\n",
              "    }\n",
              "</style>\n",
              "<table border=\"1\" class=\"dataframe\">\n",
              "  <thead>\n",
              "    <tr style=\"text-align: right;\">\n",
              "      <th></th>\n",
              "      <th>word</th>\n",
              "      <th>gold</th>\n",
              "      <th>rnn</th>\n",
              "      <th>birnn</th>\n",
              "      <th>lstm</th>\n",
              "      <th>bilstm</th>\n",
              "      <th>gru</th>\n",
              "      <th>bigru</th>\n",
              "    </tr>\n",
              "  </thead>\n",
              "  <tbody>\n",
              "    <tr>\n",
              "      <th>0</th>\n",
              "      <td>CRICKET</td>\n",
              "      <td>9</td>\n",
              "      <td>9</td>\n",
              "      <td>9</td>\n",
              "      <td>9</td>\n",
              "      <td>9</td>\n",
              "      <td>9</td>\n",
              "      <td>9</td>\n",
              "    </tr>\n",
              "    <tr>\n",
              "      <th>1</th>\n",
              "      <td>-</td>\n",
              "      <td>9</td>\n",
              "      <td>9</td>\n",
              "      <td>9</td>\n",
              "      <td>9</td>\n",
              "      <td>9</td>\n",
              "      <td>9</td>\n",
              "      <td>9</td>\n",
              "    </tr>\n",
              "    <tr>\n",
              "      <th>2</th>\n",
              "      <td>LEICESTERSHIRE</td>\n",
              "      <td>3</td>\n",
              "      <td>3</td>\n",
              "      <td>3</td>\n",
              "      <td>3</td>\n",
              "      <td>3</td>\n",
              "      <td>3</td>\n",
              "      <td>3</td>\n",
              "    </tr>\n",
              "    <tr>\n",
              "      <th>3</th>\n",
              "      <td>TAKE</td>\n",
              "      <td>9</td>\n",
              "      <td>9</td>\n",
              "      <td>9</td>\n",
              "      <td>9</td>\n",
              "      <td>9</td>\n",
              "      <td>9</td>\n",
              "      <td>9</td>\n",
              "    </tr>\n",
              "    <tr>\n",
              "      <th>4</th>\n",
              "      <td>OVER</td>\n",
              "      <td>9</td>\n",
              "      <td>9</td>\n",
              "      <td>9</td>\n",
              "      <td>9</td>\n",
              "      <td>9</td>\n",
              "      <td>9</td>\n",
              "      <td>9</td>\n",
              "    </tr>\n",
              "  </tbody>\n",
              "</table>\n",
              "</div>"
            ],
            "text/plain": [
              "             word  gold  rnn  birnn  lstm  bilstm  gru  bigru\n",
              "0         CRICKET     9    9      9     9       9    9      9\n",
              "1               -     9    9      9     9       9    9      9\n",
              "2  LEICESTERSHIRE     3    3      3     3       3    3      3\n",
              "3            TAKE     9    9      9     9       9    9      9\n",
              "4            OVER     9    9      9     9       9    9      9"
            ]
          },
          "metadata": {
            "tags": []
          },
          "execution_count": 16
        }
      ]
    },
    {
      "cell_type": "code",
      "metadata": {
        "id": "F7n7esHYvMXS",
        "colab_type": "code",
        "outputId": "45aba1c8-55ea-425b-a754-0dee25b9bb7e",
        "colab": {
          "base_uri": "https://localhost:8080/",
          "height": 34
        }
      },
      "source": [
        "models"
      ],
      "execution_count": 0,
      "outputs": [
        {
          "output_type": "execute_result",
          "data": {
            "text/plain": [
              "['rnn', 'birnn', 'lstm', 'bilstm', 'gru', 'bigru']"
            ]
          },
          "metadata": {
            "tags": []
          },
          "execution_count": 25
        }
      ]
    },
    {
      "cell_type": "code",
      "metadata": {
        "id": "I3FlXU8yDRmu",
        "colab_type": "code",
        "colab": {}
      },
      "source": [
        "print(\"************************************************************************************\")\n",
        "print(\"Use statistical test to determine the best model\")"
      ],
      "execution_count": 0,
      "outputs": []
    },
    {
      "cell_type": "code",
      "metadata": {
        "id": "3Y78zsbp9T6f",
        "colab_type": "code",
        "outputId": "5172bf56-1b5c-4e57-a60b-6707a5c1832c",
        "colab": {
          "base_uri": "https://localhost:8080/",
          "height": 622
        }
      },
      "source": [
        "#For each model, change the <pad> tag based on drawing the tags that follow the distribution similar to that of original \n",
        "for c in models:\n",
        "  pad_rows = d[d[c] == 0]\n",
        "  non_pad_rows = d[d[c] != 0]\n",
        "  l = len(pad_rows)\n",
        "  print(l)\n",
        "  lst = list(labelcol.unique())\n",
        "  newpad_rows = list(itertools.chain.from_iterable(itertools.repeat(x, int(np.ceil(vc[x]*l))) for x in lst))\n",
        "  print(len(newpad_rows))\n",
        "  finals = newpad_rows[:l]  \n",
        "  pad_rows[c] = le.transform(finals)\n",
        "  print(d.head())\n",
        "  print(d.shape)\n",
        "  d = pd.concat([pad_rows, non_pad_rows])\n",
        "  print(d.shape, '------------')\n",
        "d.to_csv('Modified.csv')"
      ],
      "execution_count": 0,
      "outputs": [
        {
          "output_type": "stream",
          "text": [
            "/usr/local/lib/python3.6/dist-packages/ipykernel_launcher.py:10: SettingWithCopyWarning: \n",
            "A value is trying to be set on a copy of a slice from a DataFrame.\n",
            "Try using .loc[row_indexer,col_indexer] = value instead\n",
            "\n",
            "See the caveats in the documentation: https://pandas.pydata.org/pandas-docs/stable/user_guide/indexing.html#returning-a-view-versus-a-copy\n",
            "  # Remove the CWD from sys.path while we load stuff.\n",
            "/usr/local/lib/python3.6/dist-packages/ipykernel_launcher.py:10: SettingWithCopyWarning: \n",
            "A value is trying to be set on a copy of a slice from a DataFrame.\n",
            "Try using .loc[row_indexer,col_indexer] = value instead\n",
            "\n",
            "See the caveats in the documentation: https://pandas.pydata.org/pandas-docs/stable/user_guide/indexing.html#returning-a-view-versus-a-copy\n",
            "  # Remove the CWD from sys.path while we load stuff.\n",
            "/usr/local/lib/python3.6/dist-packages/ipykernel_launcher.py:10: SettingWithCopyWarning: \n",
            "A value is trying to be set on a copy of a slice from a DataFrame.\n",
            "Try using .loc[row_indexer,col_indexer] = value instead\n",
            "\n",
            "See the caveats in the documentation: https://pandas.pydata.org/pandas-docs/stable/user_guide/indexing.html#returning-a-view-versus-a-copy\n",
            "  # Remove the CWD from sys.path while we load stuff.\n",
            "/usr/local/lib/python3.6/dist-packages/ipykernel_launcher.py:10: SettingWithCopyWarning: \n",
            "A value is trying to be set on a copy of a slice from a DataFrame.\n",
            "Try using .loc[row_indexer,col_indexer] = value instead\n",
            "\n",
            "See the caveats in the documentation: https://pandas.pydata.org/pandas-docs/stable/user_guide/indexing.html#returning-a-view-versus-a-copy\n",
            "  # Remove the CWD from sys.path while we load stuff.\n",
            "/usr/local/lib/python3.6/dist-packages/ipykernel_launcher.py:10: SettingWithCopyWarning: \n",
            "A value is trying to be set on a copy of a slice from a DataFrame.\n",
            "Try using .loc[row_indexer,col_indexer] = value instead\n",
            "\n",
            "See the caveats in the documentation: https://pandas.pydata.org/pandas-docs/stable/user_guide/indexing.html#returning-a-view-versus-a-copy\n",
            "  # Remove the CWD from sys.path while we load stuff.\n",
            "/usr/local/lib/python3.6/dist-packages/ipykernel_launcher.py:10: SettingWithCopyWarning: \n",
            "A value is trying to be set on a copy of a slice from a DataFrame.\n",
            "Try using .loc[row_indexer,col_indexer] = value instead\n",
            "\n",
            "See the caveats in the documentation: https://pandas.pydata.org/pandas-docs/stable/user_guide/indexing.html#returning-a-view-versus-a-copy\n",
            "  # Remove the CWD from sys.path while we load stuff.\n"
          ],
          "name": "stderr"
        }
      ]
    },
    {
      "cell_type": "markdown",
      "metadata": {
        "id": "2ub_fZ_gieHQ",
        "colab_type": "text"
      },
      "source": [
        "\n",
        "\n",
        "*   Perform a statistical test\n",
        "\n"
      ]
    },
    {
      "cell_type": "code",
      "metadata": {
        "id": "-t3ybYNmMc_S",
        "colab_type": "code",
        "colab": {}
      },
      "source": [
        "def BOOTSTRAP(set_X, b): #returns p-value(x)\n",
        "  d_X = np.sum(list(zip(*set_X))[0]) - np.sum(list(zip(*set_X))[1]) # how much better does algorithm A do than B on x\n",
        "  d_X_1tob = [] \n",
        "  for i in range(0, b):\n",
        "    A1_b, B1_b = (0, 0)\n",
        "    for j in range(len(set_X)):   # Draw a bootstrap sample x(i) of size n\n",
        "      set_Xb = random.choice(set_X)  #set_Xb.append(random.choice(AB)) #Select a member of x at random and add it to x\u0003(i)\n",
        "      A1_b += set_Xb[0]\n",
        "      B1_b += set_Xb[1]\n",
        "    d_X_1tob.append(A1_b - B1_b)  #Calculate d(x(i)) # how much better does algorithm A do than B on x\u0003(i)\n",
        "  \n",
        "  #Count the samples on which algorithm A beat expectations\n",
        "  s = 0  \n",
        "  for dx in d_X_1tob:\n",
        "    if dx > (2 * d_X):\n",
        "      s += 1    \n",
        "  \n",
        "  #onesided empirical p-value which is the percentage of samples on which algorithm A beat expectations \n",
        "  p_val = s/b      \n",
        "  return p_val"
      ],
      "execution_count": 0,
      "outputs": []
    },
    {
      "cell_type": "code",
      "metadata": {
        "id": "ViObypvsKpwm",
        "colab_type": "code",
        "colab": {}
      },
      "source": [
        "def create_Input(real, A, B):\n",
        "  apred = [0] * len(A)\n",
        "  bpred = [0] * len(B)\n",
        "  for i, el in enumerate(real):\n",
        "    if(real[i] == A[i]):\n",
        "      apred[i] = 1\n",
        "    if(real[i] == B[i]):\n",
        "      bpred[i] = 1\n",
        "  return list(zip(apred, bpred))\n"
      ],
      "execution_count": 0,
      "outputs": []
    },
    {
      "cell_type": "code",
      "metadata": {
        "id": "0MDC32u3VBSr",
        "colab_type": "code",
        "colab": {}
      },
      "source": [
        "combination = list(itertools.combinations(models, 2))\n",
        "othercomb = []\n",
        "for c in combination:\n",
        "  othercomb.append(c[::-1])\n",
        "combination = combination + othercomb\n",
        "perfdict = {el:0 for el in combination}"
      ],
      "execution_count": 0,
      "outputs": []
    },
    {
      "cell_type": "code",
      "metadata": {
        "id": "zkFKNBnscSad",
        "colab_type": "code",
        "colab": {}
      },
      "source": [
        "#Testing bootstrap\n",
        "for col in perfdict:\n",
        "  print(col[0], col[1])\n",
        "  perfdict[col] = BOOTSTRAP(create_Input(d.gold, d[col[0]], d[col[1]]), b = 1000)\n",
        "  "
      ],
      "execution_count": 0,
      "outputs": []
    },
    {
      "cell_type": "code",
      "metadata": {
        "id": "kg9M7X5zYJ2I",
        "colab_type": "code",
        "outputId": "a5ec2720-c1b0-4172-8df0-58a978ad020d",
        "colab": {
          "base_uri": "https://localhost:8080/",
          "height": 34
        }
      },
      "source": [
        "validata.shape"
      ],
      "execution_count": 0,
      "outputs": [
        {
          "output_type": "execute_result",
          "data": {
            "text/plain": [
              "(51577, 4)"
            ]
          },
          "metadata": {
            "tags": []
          },
          "execution_count": 33
        }
      ]
    },
    {
      "cell_type": "code",
      "metadata": {
        "id": "VUDZE1nt2TkT",
        "colab_type": "code",
        "colab": {}
      },
      "source": [
        "perfdict"
      ],
      "execution_count": 0,
      "outputs": []
    },
    {
      "cell_type": "code",
      "metadata": {
        "id": "nrp93PNcdcan",
        "colab_type": "code",
        "colab": {
          "base_uri": "https://localhost:8080/",
          "height": 34
        },
        "outputId": "b9ab8871-fd77-4a69-d8db-888c20470b5d"
      },
      "source": [
        "models"
      ],
      "execution_count": 24,
      "outputs": [
        {
          "output_type": "execute_result",
          "data": {
            "text/plain": [
              "['rnn', 'birnn', 'lstm', 'bilstm', 'gru', 'bigru']"
            ]
          },
          "metadata": {
            "tags": []
          },
          "execution_count": 24
        }
      ]
    },
    {
      "cell_type": "code",
      "metadata": {
        "id": "De-4tjnpY8V5",
        "colab_type": "code",
        "colab": {}
      },
      "source": [
        "modelscore = {el:0 for el in models} #Dictionary for models and scores returned from bootstrap test\n",
        "threshold = 0.05\n",
        "for k, v in perfdict.items():\n",
        "  if v < 0.05:\n",
        "    modelscore[k[0]] += 10\n",
        "best = max(modelscore.items(), key=operator.itemgetter(1))[0]"
      ],
      "execution_count": 0,
      "outputs": []
    },
    {
      "cell_type": "code",
      "metadata": {
        "id": "E38Q569l2Xye",
        "colab_type": "code",
        "colab": {}
      },
      "source": [
        "print('From the statistical test, the best model is ', best)"
      ],
      "execution_count": 0,
      "outputs": []
    },
    {
      "cell_type": "markdown",
      "metadata": {
        "id": "R3dyYa-4OfPB",
        "colab_type": "text"
      },
      "source": [
        "#### Final Model training\n"
      ]
    },
    {
      "cell_type": "code",
      "metadata": {
        "id": "FepyuTaAmDDg",
        "colab_type": "code",
        "colab": {}
      },
      "source": [
        "print(\"*************************************************\")\n",
        "print(\"Final model training\")\n",
        "print(\"The training runs by combining train and validation data\")\n",
        "finaltrain = pd.concat([newdf, newdf_val]).reset_index(drop=True)"
      ],
      "execution_count": 0,
      "outputs": []
    },
    {
      "cell_type": "code",
      "metadata": {
        "id": "rolYp9ehmEfO",
        "colab_type": "code",
        "colab": {}
      },
      "source": [
        "print(\"preparing data for final training\")\n",
        "#Gather the indixes for words from vocabulary\n",
        "vocab, weights_matrix = createWeightsLookup(finaltrain.word, google)\n",
        "wordindexlookup = {wx: vocab.index(wx) for wx in vocab}\n",
        "train_X = PrepareDataForNeuralNetwork(finaltrain, wordindexlookup)\n",
        "test_X = PrepareDataForNeuralNetwork(newdf_test, wordindexlookup)\n",
        "\n",
        "#Label encode the output feature\n",
        "le = preprocessing.LabelEncoder()\n",
        "ytrain = le.fit_transform(finaltrain.ner.values)\n",
        "ytest = le.transform(newdf_test.ner.values)"
      ],
      "execution_count": 0,
      "outputs": []
    },
    {
      "cell_type": "code",
      "metadata": {
        "id": "o6jKGtKzmEcE",
        "colab_type": "code",
        "colab": {}
      },
      "source": [
        "#Convert train data to tensors\n",
        "train_Xf= np.array(train_X.values.astype(int).reshape((finaltrain.shape[0],-1)))\n",
        "trainX = torch.from_numpy(train_Xf).long()\n",
        "trainy = torch.from_numpy(ytrain.reshape((finaltrain.shape[0],-1))).long()\n",
        "\n",
        "#Convert test data to tensors\n",
        "test_Xf= np.array(test_X.values.astype(int).reshape((newdf_test.shape[0],-1)))\n",
        "testX = torch.from_numpy(test_Xf).long()\n",
        "testy = torch.from_numpy(ytest.reshape((newdf_test.shape[0],-1))).long()\n"
      ],
      "execution_count": 0,
      "outputs": []
    },
    {
      "cell_type": "code",
      "metadata": {
        "id": "i3bFZmOWno7-",
        "colab_type": "code",
        "colab": {}
      },
      "source": [
        "print(trainX.shape)\n",
        "print(trainy.shape)\n",
        "print(testX.shape)\n",
        "print(testy.shape)\n",
        "print('Data ready')"
      ],
      "execution_count": 0,
      "outputs": []
    },
    {
      "cell_type": "code",
      "metadata": {
        "id": "e2cMrnZ9mEZF",
        "colab_type": "code",
        "colab": {}
      },
      "source": [
        "print(\"Training started...\")"
      ],
      "execution_count": 0,
      "outputs": []
    },
    {
      "cell_type": "code",
      "metadata": {
        "id": "gJK50lEsdOuw",
        "colab_type": "code",
        "colab": {}
      },
      "source": [
        "best{('bigru', 'bilstm'): 0.0,\n",
        " ('bigru', 'birnn'): 0.0,\n",
        " ('bigru', 'gru'): 0.0,\n",
        " ('bigru', 'lstm'): 0.0,\n",
        " ('bigru', 'rnn'): 0.0,\n",
        " ('bilstm', 'bigru'): 1.0,\n",
        " ('bilstm', 'birnn'): 0.417,\n",
        " ('bilstm', 'gru'): 1.0,\n",
        " ('bilstm', 'lstm'): 0.0,\n",
        " ('bilstm', 'rnn'): 0.003,\n",
        " ('birnn', 'bigru'): 1.0,\n",
        " ('birnn', 'bilstm'): 0.565,\n",
        " ('birnn', 'gru'): 1.0,\n",
        " ('birnn', 'lstm'): 0.0,\n",
        " ('birnn', 'rnn'): 0.0,\n",
        " ('gru', 'bigru'): 1.0,\n",
        " ('gru', 'bilstm'): 0.0,\n",
        " ('gru', 'birnn'): 0.0,\n",
        " ('gru', 'lstm'): 0.0,\n",
        " ('gru', 'rnn'): 0.0,\n",
        " ('lstm', 'bigru'): 1.0,\n",
        " ('lstm', 'bilstm'): 1.0,\n",
        " ('lstm', 'birnn'): 1.0,\n",
        " ('lstm', 'gru'): 1.0,\n",
        " ('lstm', 'rnn'): 1.0,\n",
        " ('rnn', 'bigru'): 1.0,\n",
        " ('rnn', 'bilstm'): 0.999,\n",
        " ('rnn', 'birnn'): 0.999,\n",
        " ('rnn', 'gru'): 1.0,\n",
        " ('rnn', 'lstm'): 0.0}"
      ],
      "execution_count": 0,
      "outputs": []
    },
    {
      "cell_type": "code",
      "metadata": {
        "id": "-K9VrCua3xrt",
        "colab_type": "code",
        "colab": {}
      },
      "source": [
        "best = 'bigru'\n",
        "device = torch.device(\"cuda\" if torch.cuda.is_available() else \"cpu\")"
      ],
      "execution_count": 0,
      "outputs": []
    },
    {
      "cell_type": "code",
      "metadata": {
        "id": "ty6VpG7gb1KX",
        "colab_type": "code",
        "colab": {}
      },
      "source": [
        "wm = torch.from_numpy(weights_matrix).float()\n",
        "if best == 'rnn':\n",
        "  model_7 = RNN(batch_size= 2000, output_size= 10, hidden_size = 256, vocab_size = len(vocab), embedding_length = 300, word_embeddings= wm, bidirectional = False, requires_grad=True)\n",
        "elif best == 'birnn':\n",
        "  model_7 = RNN(batch_size= 2000, output_size= 10, hidden_size = 256, vocab_size = len(vocab), embedding_length = 300, word_embeddings= wm, bidirectional = True, requires_grad=True)\n",
        "elif best == 'lstm':\n",
        "  model_7 = LSTMClassifier(batch_size= 2000, output_size= 10, hidden_size = 256, vocab_size = len(vocab), embedding_length = 300, word_embeddings= wm, bidirectional = False, requires_grad=True)\n",
        "elif best == 'bilstm':\n",
        "  model_7 = LSTMClassifier(batch_size= 2000, output_size= 10, hidden_size = 256, vocab_size = len(vocab), embedding_length = 300, word_embeddings= wm, bidirectional = True, requires_grad=True)\n",
        "elif best == 'gru':\n",
        "  model_7 = GRUNet(batch_size= 2000, output_size= 10, hidden_size = 256, vocab_size = len(vocab), embedding_length = 300, word_embeddings= wm, bidirectional = False, requires_grad=True)\n",
        "elif best == 'bigru':\n",
        "  model_7 = GRUNet(batch_size= 2000, output_size= 10, hidden_size = 256, vocab_size = len(vocab), embedding_length = 300, word_embeddings= wm, bidirectional = True, requires_grad=True)\n"
      ],
      "execution_count": 0,
      "outputs": []
    },
    {
      "cell_type": "code",
      "metadata": {
        "id": "Z3t4PfeNeObW",
        "colab_type": "code",
        "colab": {
          "base_uri": "https://localhost:8080/",
          "height": 34
        },
        "outputId": "e7caf9eb-020e-48ee-d2b4-4d4ccfe1643b"
      },
      "source": [
        "device"
      ],
      "execution_count": 35,
      "outputs": [
        {
          "output_type": "execute_result",
          "data": {
            "text/plain": [
              "device(type='cuda')"
            ]
          },
          "metadata": {
            "tags": []
          },
          "execution_count": 35
        }
      ]
    },
    {
      "cell_type": "code",
      "metadata": {
        "id": "m4n7fnyK4Ges",
        "colab_type": "code",
        "outputId": "fd149015-42a0-4244-da95-906b0ae231a9",
        "colab": {
          "base_uri": "https://localhost:8080/",
          "height": 118
        }
      },
      "source": [
        "model_7"
      ],
      "execution_count": 36,
      "outputs": [
        {
          "output_type": "execute_result",
          "data": {
            "text/plain": [
              "GRUNet(\n",
              "  (word_embeddings): Embedding(25257, 300)\n",
              "  (gru): GRU(300, 256, bidirectional=True)\n",
              "  (label): Linear(in_features=512, out_features=10, bias=True)\n",
              "  (softmax): Softmax(dim=None)\n",
              ")"
            ]
          },
          "metadata": {
            "tags": []
          },
          "execution_count": 36
        }
      ]
    },
    {
      "cell_type": "code",
      "metadata": {
        "id": "Tuj8r35joxco",
        "colab_type": "code",
        "outputId": "126deaff-6d75-4804-8c45-ad57c439dbde",
        "colab": {
          "base_uri": "https://localhost:8080/",
          "height": 54
        }
      },
      "source": [
        "\n",
        "loss, acc = Training(model_7, trainX, trainy, None, None, lr= learningrate, epochs=100, batch_size=2000)\n",
        "path = '/content/drive/My Drive/ModelArtefacts/model7.pt'\n",
        "torch.save(model_7.state_dict(), path)"
      ],
      "execution_count": 39,
      "outputs": [
        {
          "output_type": "stream",
          "text": [
            "/usr/local/lib/python3.6/dist-packages/ipykernel_launcher.py:107: UserWarning: Implicit dimension choice for softmax has been deprecated. Change the call to include dim=X as an argument.\n"
          ],
          "name": "stderr"
        }
      ]
    },
    {
      "cell_type": "code",
      "metadata": {
        "id": "RdXTIy1SnWXI",
        "colab_type": "code",
        "colab": {
          "base_uri": "https://localhost:8080/",
          "height": 54
        },
        "outputId": "5af3db82-c304-4558-9433-2ffdf03b1477"
      },
      "source": [
        "# Testing\n",
        "print(\"Testing.....\")\n",
        "model_7.load_state_dict(torch.load(path))\n",
        "predictions = Testing(testX, testy, model_7)\n",
        "print(\"Done\")"
      ],
      "execution_count": 40,
      "outputs": [
        {
          "output_type": "stream",
          "text": [
            "/usr/local/lib/python3.6/dist-packages/ipykernel_launcher.py:107: UserWarning: Implicit dimension choice for softmax has been deprecated. Change the call to include dim=X as an argument.\n"
          ],
          "name": "stderr"
        }
      ]
    },
    {
      "cell_type": "code",
      "metadata": {
        "id": "0eqik4Jpn7s3",
        "colab_type": "code",
        "colab": {}
      },
      "source": [
        "file1 = open(\"/content/drive/My Drive/ModelArtefacts/model7preds.txt\",\"w\") \n",
        "file1.writelines(str(predictions)) \n",
        "file1.close()"
      ],
      "execution_count": 0,
      "outputs": []
    },
    {
      "cell_type": "code",
      "metadata": {
        "id": "Lvq50i0Pi-KK",
        "colab_type": "code",
        "colab": {}
      },
      "source": [
        "print('Final accuracy is ', np.round(accuracy_score(predictions, testy.numpy().reshape(1,-1)[0].tolist()),2))\n",
        "print('Final f1 score is ', np.round(f1_score(predictions, testy.numpy().reshape(1,-1)[0].tolist(), average='macro'),2))"
      ],
      "execution_count": 0,
      "outputs": []
    },
    {
      "cell_type": "code",
      "metadata": {
        "id": "sbjf584QwUzD",
        "colab_type": "code",
        "colab": {
          "base_uri": "https://localhost:8080/",
          "height": 34
        },
        "outputId": "4fdd263a-5c62-4f51-ed32-89d282fc7662"
      },
      "source": [
        "len(predictions)"
      ],
      "execution_count": 45,
      "outputs": [
        {
          "output_type": "execute_result",
          "data": {
            "text/plain": [
              "183580"
            ]
          },
          "metadata": {
            "tags": []
          },
          "execution_count": 45
        }
      ]
    },
    {
      "cell_type": "code",
      "metadata": {
        "id": "HKatAOgExoZb",
        "colab_type": "code",
        "colab": {}
      },
      "source": [
        "list_of_tuples = list(zip(newdf_test.word.values, le.inverse_transform(testy.numpy().reshape(1,-1)[0].tolist()), le.inverse_transform(predictions)))\n",
        "predictionslabels_df = pd.DataFrame(list_of_tuples, columns = ['word','truth','preds'])"
      ],
      "execution_count": 0,
      "outputs": []
    },
    {
      "cell_type": "code",
      "metadata": {
        "id": "7pCFSClvxyId",
        "colab_type": "code",
        "colab": {
          "base_uri": "https://localhost:8080/",
          "height": 34
        },
        "outputId": "125f9cf2-df7e-40c3-d3be-088d0970debe"
      },
      "source": [
        "#Remove pad tags\n",
        "d = predictionslabels_df[predictionslabels_df['truth'] != '<pad>']\n",
        "d.shape"
      ],
      "execution_count": 82,
      "outputs": [
        {
          "output_type": "execute_result",
          "data": {
            "text/plain": [
              "(46435, 3)"
            ]
          },
          "metadata": {
            "tags": []
          },
          "execution_count": 82
        }
      ]
    },
    {
      "cell_type": "code",
      "metadata": {
        "id": "0olNAeJN2f5G",
        "colab_type": "code",
        "colab": {
          "base_uri": "https://localhost:8080/",
          "height": 195
        },
        "outputId": "6aa55d6f-3552-4d50-f91d-e920becb84af"
      },
      "source": [
        "d.head()"
      ],
      "execution_count": 83,
      "outputs": [
        {
          "output_type": "execute_result",
          "data": {
            "text/html": [
              "<div>\n",
              "<style scoped>\n",
              "    .dataframe tbody tr th:only-of-type {\n",
              "        vertical-align: middle;\n",
              "    }\n",
              "\n",
              "    .dataframe tbody tr th {\n",
              "        vertical-align: top;\n",
              "    }\n",
              "\n",
              "    .dataframe thead th {\n",
              "        text-align: right;\n",
              "    }\n",
              "</style>\n",
              "<table border=\"1\" class=\"dataframe\">\n",
              "  <thead>\n",
              "    <tr style=\"text-align: right;\">\n",
              "      <th></th>\n",
              "      <th>word</th>\n",
              "      <th>truth</th>\n",
              "      <th>preds</th>\n",
              "    </tr>\n",
              "  </thead>\n",
              "  <tbody>\n",
              "    <tr>\n",
              "      <th>0</th>\n",
              "      <td>SOCCER</td>\n",
              "      <td>O</td>\n",
              "      <td>O</td>\n",
              "    </tr>\n",
              "    <tr>\n",
              "      <th>1</th>\n",
              "      <td>-</td>\n",
              "      <td>O</td>\n",
              "      <td>O</td>\n",
              "    </tr>\n",
              "    <tr>\n",
              "      <th>2</th>\n",
              "      <td>JAPAN</td>\n",
              "      <td>B-LOC</td>\n",
              "      <td>B-LOC</td>\n",
              "    </tr>\n",
              "    <tr>\n",
              "      <th>3</th>\n",
              "      <td>GET</td>\n",
              "      <td>O</td>\n",
              "      <td>B-ORG</td>\n",
              "    </tr>\n",
              "    <tr>\n",
              "      <th>4</th>\n",
              "      <td>LUCKY</td>\n",
              "      <td>O</td>\n",
              "      <td>B-ORG</td>\n",
              "    </tr>\n",
              "  </tbody>\n",
              "</table>\n",
              "</div>"
            ],
            "text/plain": [
              "     word  truth  preds\n",
              "0  SOCCER      O      O\n",
              "1       -      O      O\n",
              "2   JAPAN  B-LOC  B-LOC\n",
              "3     GET      O  B-ORG\n",
              "4   LUCKY      O  B-ORG"
            ]
          },
          "metadata": {
            "tags": []
          },
          "execution_count": 83
        }
      ]
    },
    {
      "cell_type": "code",
      "metadata": {
        "id": "SjtRGgLyyWAz",
        "colab_type": "code",
        "colab": {}
      },
      "source": [
        "labelcol = newdf_test[newdf_test['ner'] != '<pad>']['ner']\n",
        "vc = labelcol.value_counts(normalize=True)\n",
        "#For each model, change the <pad> tag based on drawing the tags that follow the distribution similar to that of original \n",
        "c = 'preds'\n",
        "pad_rows = d[d[c] == '<pad>']\n",
        "l = len(pad_rows)\n",
        "lst = list(labelcol.unique())\n",
        "newpad_rows = list(itertools.chain.from_iterable(itertools.repeat(x, int(np.ceil(vc[x]*l))) for x in lst))\n",
        "newpad_rows\n",
        "finals = newpad_rows[:l]  \n",
        "len(finals)\n",
        "d.loc[pad_rows.index, c] = finals"
      ],
      "execution_count": 0,
      "outputs": []
    },
    {
      "cell_type": "code",
      "metadata": {
        "id": "Oj3EyTNq9sbH",
        "colab_type": "code",
        "colab": {}
      },
      "source": [
        "d.to_csv(r'Finaltestpreds.txt', header=None, index=None, sep=' ', mode='a')"
      ],
      "execution_count": 0,
      "outputs": []
    },
    {
      "cell_type": "code",
      "metadata": {
        "id": "kMz06pM1m2QM",
        "colab_type": "code",
        "colab": {}
      },
      "source": [
        "# #This prints the csv file with accuracies from each model \n",
        "# colnames = ['rnn', 'birnn', 'lstm', 'bilstm', 'gru', 'bigru']\n",
        "# list_of_tuples = list(zip(acc_r, acc_bi_r, acc_l, acc_bi_l, preds_v_r, acc_g, acc_bi_g))\n",
        "# predictions_df = pd.DataFrame(list_of_tuples, columns = colnames)\n",
        "\n",
        "# predictions_df.to_csv('predictions_encoded.csv')\n",
        "# #Convert back the encoded labels to original tags\n",
        "# real = le.inverse_transform(testy)\n",
        "# pred_r = le.inverse_transform(preds_v_r)\n",
        "# pred_bi_r = le.inverse_transform(preds_bi_v_r)\n",
        "# pred_l = le.inverse_transform(preds_v_l)\n",
        "# pred_bi_l = le.inverse_transform(preds_bi_v_l)\n",
        "# pred_g = le.inverse_transform(preds_v_g)\n",
        "# pred_bi_g = le.inverse_transform(preds_bi_v_g)\n",
        "\n",
        "# list_of_tuples = list(zip(newdf_test.word.values, real, pred_r, pred_bi_r, pred_l, pred_bi_l, pred_g, pred_bi_g))\n",
        "# predictionslabels_df = pd.DataFrame(list_of_tuples, columns = colnames)\n",
        "# predictionslabels_df.to_csv(r'gru.txt', header=None, index=None, sep=' ', mode='a')"
      ],
      "execution_count": 0,
      "outputs": []
    }
  ]
}